{
 "cells": [
  {
   "cell_type": "markdown",
   "id": "28838bd4",
   "metadata": {
    "papermill": {
     "duration": 0.007007,
     "end_time": "2022-01-04T17:39:17.135461",
     "exception": false,
     "start_time": "2022-01-04T17:39:17.128454",
     "status": "completed"
    },
    "tags": []
   },
   "source": [
    "**This notebook is an exercise in the [Introduction to Machine Learning](https://www.kaggle.com/learn/intro-to-machine-learning) course.  You can reference the tutorial at [this link](https://www.kaggle.com/dansbecker/random-forests).**\n",
    "\n",
    "---\n"
   ]
  },
  {
   "cell_type": "markdown",
   "id": "a289eaf4",
   "metadata": {
    "papermill": {
     "duration": 0.005912,
     "end_time": "2022-01-04T17:39:17.149145",
     "exception": false,
     "start_time": "2022-01-04T17:39:17.143233",
     "status": "completed"
    },
    "tags": []
   },
   "source": [
    "## Recap\n",
    "Here's the code you've written so far."
   ]
  },
  {
   "cell_type": "code",
   "execution_count": 1,
   "id": "daba1de2",
   "metadata": {
    "execution": {
     "iopub.execute_input": "2022-01-04T17:39:17.165344Z",
     "iopub.status.busy": "2022-01-04T17:39:17.164177Z",
     "iopub.status.idle": "2022-01-04T17:39:18.535344Z",
     "shell.execute_reply": "2022-01-04T17:39:18.535898Z",
     "shell.execute_reply.started": "2021-10-27T15:15:31.686407Z"
    },
    "papermill": {
     "duration": 1.38102,
     "end_time": "2022-01-04T17:39:18.536181",
     "exception": false,
     "start_time": "2022-01-04T17:39:17.155161",
     "status": "completed"
    },
    "tags": []
   },
   "outputs": [
    {
     "name": "stdout",
     "output_type": "stream",
     "text": [
      "Validation MAE when not specifying max_leaf_nodes: 29,653\n",
      "Validation MAE for best value of max_leaf_nodes: 27,283\n",
      "\n",
      "Setup complete\n"
     ]
    }
   ],
   "source": [
    "# Code you have previously used to load data\n",
    "import pandas as pd\n",
    "from sklearn.metrics import mean_absolute_error\n",
    "from sklearn.model_selection import train_test_split\n",
    "from sklearn.tree import DecisionTreeRegressor\n",
    "\n",
    "\n",
    "# Path of the file to read\n",
    "iowa_file_path = '../input/home-data-for-ml-course/train.csv'\n",
    "\n",
    "home_data = pd.read_csv(iowa_file_path)\n",
    "# Create target object and call it y\n",
    "y = home_data.SalePrice\n",
    "# Create X\n",
    "features = ['LotArea', 'YearBuilt', '1stFlrSF', '2ndFlrSF', 'FullBath', 'BedroomAbvGr', 'TotRmsAbvGrd']\n",
    "X = home_data[features]\n",
    "\n",
    "# Split into validation and training data\n",
    "train_X, val_X, train_y, val_y = train_test_split(X, y, random_state=1)\n",
    "\n",
    "# Specify Model\n",
    "iowa_model = DecisionTreeRegressor(random_state=1)\n",
    "# Fit Model\n",
    "iowa_model.fit(train_X, train_y)\n",
    "\n",
    "# Make validation predictions and calculate mean absolute error\n",
    "val_predictions = iowa_model.predict(val_X)\n",
    "val_mae = mean_absolute_error(val_predictions, val_y)\n",
    "print(\"Validation MAE when not specifying max_leaf_nodes: {:,.0f}\".format(val_mae))\n",
    "\n",
    "# Using best value for max_leaf_nodes\n",
    "iowa_model = DecisionTreeRegressor(max_leaf_nodes=100, random_state=1)\n",
    "iowa_model.fit(train_X, train_y)\n",
    "val_predictions = iowa_model.predict(val_X)\n",
    "val_mae = mean_absolute_error(val_predictions, val_y)\n",
    "print(\"Validation MAE for best value of max_leaf_nodes: {:,.0f}\".format(val_mae))\n",
    "\n",
    "\n",
    "# Set up code checking\n",
    "from learntools.core import binder\n",
    "binder.bind(globals())\n",
    "from learntools.machine_learning.ex6 import *\n",
    "print(\"\\nSetup complete\")"
   ]
  },
  {
   "cell_type": "markdown",
   "id": "82f49839",
   "metadata": {
    "papermill": {
     "duration": 0.00617,
     "end_time": "2022-01-04T17:39:18.549396",
     "exception": false,
     "start_time": "2022-01-04T17:39:18.543226",
     "status": "completed"
    },
    "tags": []
   },
   "source": [
    "# Exercises\n",
    "Data science isn't always this easy. But replacing the decision tree with a Random Forest is going to be an easy win."
   ]
  },
  {
   "cell_type": "markdown",
   "id": "31652846",
   "metadata": {
    "papermill": {
     "duration": 0.006083,
     "end_time": "2022-01-04T17:39:18.561910",
     "exception": false,
     "start_time": "2022-01-04T17:39:18.555827",
     "status": "completed"
    },
    "tags": []
   },
   "source": [
    "## Step 1: Use a Random Forest"
   ]
  },
  {
   "cell_type": "code",
   "execution_count": 2,
   "id": "951fa2ee",
   "metadata": {
    "execution": {
     "iopub.execute_input": "2022-01-04T17:39:18.580577Z",
     "iopub.status.busy": "2022-01-04T17:39:18.579908Z",
     "iopub.status.idle": "2022-01-04T17:39:19.110737Z",
     "shell.execute_reply": "2022-01-04T17:39:19.111222Z",
     "shell.execute_reply.started": "2021-10-27T15:17:30.4878Z"
    },
    "papermill": {
     "duration": 0.543216,
     "end_time": "2022-01-04T17:39:19.111425",
     "exception": false,
     "start_time": "2022-01-04T17:39:18.568209",
     "status": "completed"
    },
    "tags": []
   },
   "outputs": [
    {
     "name": "stdout",
     "output_type": "stream",
     "text": [
      "Validation MAE for Random Forest Model: 21,857.16\n"
     ]
    },
    {
     "data": {
      "application/javascript": [
       "parent.postMessage({\"jupyterEvent\": \"custom.exercise_interaction\", \"data\": {\"outcomeType\": 1, \"valueTowardsCompletion\": 1.0, \"interactionType\": 1, \"questionType\": 2, \"questionId\": \"1_CheckRfScore\", \"learnToolsVersion\": \"0.3.4\", \"failureMessage\": \"\", \"exceptionClass\": \"\", \"trace\": \"\"}}, \"*\")"
      ],
      "text/plain": [
       "<IPython.core.display.Javascript object>"
      ]
     },
     "metadata": {},
     "output_type": "display_data"
    },
    {
     "data": {
      "text/markdown": [
       "<span style=\"color:#33cc33\">Correct</span>"
      ],
      "text/plain": [
       "Correct"
      ]
     },
     "metadata": {},
     "output_type": "display_data"
    }
   ],
   "source": [
    "from sklearn.ensemble import RandomForestRegressor\n",
    "\n",
    "# Define the model. Set random_state to 1\n",
    "rf_model =RandomForestRegressor(random_state=1)\n",
    "\n",
    "# fit your model\n",
    "rf_model.fit(train_X,train_y)\n",
    "predicted_val= rf_model.predict(val_X)\n",
    "\n",
    "\n",
    "# Calculate the mean absolute error of your Random Forest model on the validation data\n",
    "rf_val_mae=mean_absolute_error(val_y,predicted_val)\n",
    "\n",
    "print(\"Validation MAE for Random Forest Model: {:,.2f}\".format(rf_val_mae))\n",
    "\n",
    "# Check your answer\n",
    "step_1.check()"
   ]
  },
  {
   "cell_type": "code",
   "execution_count": 3,
   "id": "b16868c0",
   "metadata": {
    "execution": {
     "iopub.execute_input": "2022-01-04T17:39:19.131958Z",
     "iopub.status.busy": "2022-01-04T17:39:19.130954Z",
     "iopub.status.idle": "2022-01-04T17:39:19.133269Z",
     "shell.execute_reply": "2022-01-04T17:39:19.133791Z"
    },
    "papermill": {
     "duration": 0.014778,
     "end_time": "2022-01-04T17:39:19.133951",
     "exception": false,
     "start_time": "2022-01-04T17:39:19.119173",
     "status": "completed"
    },
    "tags": []
   },
   "outputs": [],
   "source": [
    "# The lines below will show you a hint or the solution.\n",
    "# step_1.hint() \n",
    "# step_1.solution()\n"
   ]
  },
  {
   "cell_type": "markdown",
   "id": "69de9093",
   "metadata": {
    "papermill": {
     "duration": 0.007828,
     "end_time": "2022-01-04T17:39:19.149609",
     "exception": false,
     "start_time": "2022-01-04T17:39:19.141781",
     "status": "completed"
    },
    "tags": []
   },
   "source": [
    "So far, you have followed specific instructions at each step of your project. This helped learn key ideas and build your first model, but now you know enough to try things on your own. \n",
    "\n",
    "Machine Learning competitions are a great way to try your own ideas and learn more as you independently navigate a machine learning project. \n",
    "\n",
    "# Keep Going\n",
    "\n",
    "You are ready for **[Machine Learning Competitions](https://www.kaggle.com/alexisbcook/machine-learning-competitions).**\n"
   ]
  }
 ],
 "metadata": {
  "kernelspec": {
   "display_name": "Python 3",
   "language": "python",
   "name": "python3"
  },
  "language_info": {
   "codemirror_mode": {
    "name": "ipython",
    "version": 3
   },
   "file_extension": ".py",
   "mimetype": "text/x-python",
   "name": "python",
   "nbconvert_exporter": "python",
   "pygments_lexer": "ipython3",
   "version": "3.7.12"
  },
  "papermill": {
   "default_parameters": {},
   "duration": 13.09313,
   "end_time": "2022-01-04T17:39:19.868008",
   "environment_variables": {},
   "exception": null,
   "input_path": "__notebook__.ipynb",
   "output_path": "__notebook__.ipynb",
   "parameters": {},
   "start_time": "2022-01-04T17:39:06.774878",
   "version": "2.3.3"
  }
 },
 "nbformat": 4,
 "nbformat_minor": 5
}
